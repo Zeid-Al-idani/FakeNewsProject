{
 "cells": [
  {
   "cell_type": "code",
   "execution_count": 2,
   "metadata": {
    "scrolled": true
   },
   "outputs": [],
   "source": [
    "import glob\n",
    "import json\n",
    "import csv\n",
    "\n",
    "\n",
    "\n",
    "temp = {}\n",
    "for i,filename in enumerate(glob.iglob('/Users/steph/OneDrive/Skrivbord/FakeNewsNet/Create_files/dataset/Gossipcop_fake/*/*.json')): \n",
    "    \n",
    "    with open(filename) as f:\n",
    "        data = json.load(f)\n",
    "        temp[i] = data['text']\n",
    "\n",
    "\n",
    "    \n",
    "file = open('fake.csv', 'w', newline='') \n",
    "filewriter = csv.writer(file)\n",
    "for i in range(len(temp)):\n",
    "    filewriter.writerow([temp[i].encode('utf-8')])\n",
    "    \n",
    "    \n",
    "temp = {}\n",
    "for i,filename in enumerate(glob.iglob('/Users/steph/OneDrive/Skrivbord/FakeNewsNet/Create_files/dataset/Gossipcop_real/*/*.json')): \n",
    "    \n",
    "    with open(filename) as f:\n",
    "        data = json.load(f)\n",
    "        temp[i] = data['text']\n",
    "\n",
    "\n",
    "    \n",
    "file = open('real.csv', 'w', newline='') \n",
    "filewriter = csv.writer(file)\n",
    "for i in range(len(temp)):\n",
    "    filewriter.writerow([temp[i].encode('utf-8')])\n",
    "\n",
    "\n",
    "    "
   ]
  },
  {
   "cell_type": "code",
   "execution_count": 55,
   "metadata": {},
   "outputs": [
    {
     "name": "stdout",
     "output_type": "stream",
     "text": [
      "712\n"
     ]
    }
   ],
   "source": [
    "print(len(temp))"
   ]
  }
 ],
 "metadata": {
  "kernelspec": {
   "display_name": "Python 3",
   "language": "python",
   "name": "python3"
  },
  "language_info": {
   "codemirror_mode": {
    "name": "ipython",
    "version": 3
   },
   "file_extension": ".py",
   "mimetype": "text/x-python",
   "name": "python",
   "nbconvert_exporter": "python",
   "pygments_lexer": "ipython3",
   "version": "3.8.5"
  }
 },
 "nbformat": 4,
 "nbformat_minor": 4
}
